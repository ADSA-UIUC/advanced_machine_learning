{
 "cells": [
  {
   "cell_type": "code",
   "execution_count": 5,
   "metadata": {
    "collapsed": true,
    "deletable": true,
    "editable": true
   },
   "outputs": [],
   "source": [
    "# Set up Notebook\n",
    "\n",
    "% matplotlib inline\n",
    "\n",
    "# Standard imports\n",
    "import numpy as np\n",
    "import pandas as pd\n",
    "import matplotlib.pyplot as plt\n",
    "import seaborn as sns\n",
    "\n",
    "# We do this to ignore several specific Pandas warnings\n",
    "import warnings"
   ]
  },
  {
   "cell_type": "markdown",
   "metadata": {
    "deletable": true,
    "editable": true
   },
   "source": [
    "## [Naive Bayes][nb] (NB)\n",
    "\n",
    "The first algorithm we will explore is one of the simplest, the [Naive\n",
    "Bayes][nb] algorithm. Fundamentally, this algorithm is remarkably simple\n",
    "and is based on the assumption of independence that a given attribute (or\n",
    "feature) belongs to a specific class. Scikit learn provides several\n",
    "Naive Bayes implementations, using a specific one generally depends on\n",
    "the nature of the data being analyzed:\n",
    "\n",
    "- [Gaussian Naive Bayes][gnb] \n",
    "- [Multinomial Naive Bayes][mnb] \n",
    "- [Bernoulli Naive Bayes][bnb] \n",
    "\n",
    "In the following code cells, we demonstrate how to perform Naive Bayes\n",
    "classification by using scikit learn, in this case we use the Gaussian\n",
    "Naive Bayes implementation. The standard classification process in\n",
    "scikit learn is to first fit a model to the training data and to\n",
    "subsequently apply this model to predict values for the testing data.\n",
    "After this process, we first compute the prediction score before\n",
    "displaying the confusion matrix for this algorithm.\n",
    "\n",
    "-----\n",
    "[gnb]: http://scikit-learn.org/stable/modules/generated/sklearn.naive_bayes.GaussianNB.html#sklearn.naive_bayes.GaussianNB\n",
    "[mnb]: http://scikit-learn.org/stable/modules/generated/sklearn.naive_bayes.MultinomialNB.html#sklearn.naive_bayes.MultinomialNB\n",
    "[bnb]: http://scikit-learn.org/stable/modules/generated/sklearn.naive_bayes.BernoulliNB.html#sklearn.naive_bayes.BernoulliNB\n",
    "[nb]: https://en.wikipedia.org/wiki/Naive_Bayes_classifier"
   ]
  },
  {
   "cell_type": "code",
   "execution_count": null,
   "metadata": {
    "collapsed": true,
    "deletable": true,
    "editable": true
   },
   "outputs": [],
   "source": [
    "import sklearn.cross_validation as cv\n",
    "(x_train, x_test, y_train, y_test) = cv.train_test_split(x, y, test_size=.25)"
   ]
  },
  {
   "cell_type": "markdown",
   "metadata": {
    "deletable": true,
    "editable": true
   },
   "source": [
    "## Handwritten Digits\n",
    "\n",
    "We will explore the Naive Bayes\n",
    "classification applied to handwritten digits. First we will load the\n",
    "data and review some of the sample. After which, we will apply a\n",
    "Multinomial Naive Bayes classification to this data and explore the\n",
    "resulting predictions.\n",
    "\n",
    "-----"
   ]
  },
  {
   "cell_type": "code",
   "execution_count": 6,
   "metadata": {
    "collapsed": false,
    "deletable": true,
    "editable": true
   },
   "outputs": [
    {
     "name": "stdout",
     "output_type": "stream",
     "text": [
      "Total number of samples = 1797\n"
     ]
    },
    {
     "data": {
      "image/png": "[encoded data removed]",
      "text/plain": [
       "<matplotlib.figure.Figure at 0x1a0dd7f748>"
      ]
     },
     "metadata": {},
     "output_type": "display_data"
    }
   ],
   "source": [
    "# We have helper code to assist in the loading and plotting of these data\n",
    "import digits as hd\n",
    "\n",
    "# We extract features (x), labels (y), and the images for plotting.\n",
    "x, y, images = hd.get_data()\n",
    "hd.im_plot(x, y, images)\n",
    "\n",
    "print('Total number of samples = {0}'.format(x.shape[0]))"
   ]
  },
  {
   "cell_type": "markdown",
   "metadata": {
    "deletable": true,
    "editable": true
   },
   "source": [
    "-----\n",
    "\n",
    "### Classification of Image Data\n",
    "\n",
    "Now that these data are loaded, we can apply a Naives Bayes classifier\n",
    "to this problem. Below we employ a Multinomial Naive Bayes model, and\n",
    "show the classification score, and the classification report.\n",
    "\n",
    "-----"
   ]
  },
  {
   "cell_type": "code",
   "execution_count": 7,
   "metadata": {
    "collapsed": false,
    "deletable": true,
    "editable": true
   },
   "outputs": [
    {
     "name": "stdout",
     "output_type": "stream",
     "text": [
      "Prediction Accuracy = 90.0%\n"
     ]
    },
    {
     "name": "stderr",
     "output_type": "stream",
     "text": [
      "/Users/Sumit/anaconda3/lib/python3.6/site-packages/sklearn/cross_validation.py:41: DeprecationWarning: This module was deprecated in version 0.18 in favor of the model_selection module into which all the refactored classes and functions are moved. Also note that the interface of the new CV iterators are different from that of this module. This module will be removed in 0.20.\n",
      "  \"This module will be removed in 0.20.\", DeprecationWarning)\n"
     ]
    }
   ],
   "source": [
    "import sklearn.cross_validation as cv\n",
    "(x_train, x_test, y_train, y_test) = cv.train_test_split(x, y, test_size=.25)\n",
    "\n",
    "# First, lets try Gaussain NB\n",
    "from sklearn.naive_bayes import MultinomialNB\n",
    "\n",
    "# First we construct our Classification Model\n",
    "nbc = MultinomialNB()\n",
    "\n",
    "nbc.fit(x_train, y_train);\n",
    "\n",
    "print('Prediction Accuracy = {0:3.1f}%'.format(100*nbc.score(x_test, y_test)))"
   ]
  },
  {
   "cell_type": "code",
   "execution_count": 26,
   "metadata": {
    "collapsed": false,
    "deletable": true,
    "editable": true
   },
   "outputs": [
    {
     "name": "stdout",
     "output_type": "stream",
     "text": [
      "             precision    recall  f1-score   support\n",
      "\n",
      "          0       0.98      1.00      0.99        53\n",
      "          1       0.86      0.78      0.82        41\n",
      "          2       0.89      0.85      0.87        46\n",
      "          3       1.00      0.81      0.89        52\n",
      "          4       1.00      0.92      0.96        51\n",
      "          5       0.94      0.82      0.87        38\n",
      "          6       0.97      1.00      0.99        38\n",
      "          7       0.85      0.98      0.91        41\n",
      "          8       0.82      0.90      0.86        51\n",
      "          9       0.73      0.95      0.82        39\n",
      "\n",
      "avg / total       0.91      0.90      0.90       450\n",
      "\n"
     ]
    }
   ],
   "source": [
    "# more information on the precision, recall, f1-score, and support is found here: \n",
    "# http://scikit-learn.org/stable/modules/generated/sklearn.metrics.precision_recall_fscore_support.html\n",
    "\n",
    "from sklearn.metrics import classification_report\n",
    "\n",
    "y_pred = nbc.predict(x_test)\n",
    "print(classification_report(y_test, y_pred))"
   ]
  },
  {
   "cell_type": "markdown",
   "metadata": {
    "deletable": true,
    "editable": true
   },
   "source": [
    "-----\n",
    "\n",
    "### Model Evaluation\n",
    "\n",
    "The Naive Bayes model performed in a reasonable manner, but what about\n",
    "on completely blind data. We can test the model by _making_ new data.\n",
    "Below we use methods in the helper code to make _fake_ data, in this\n",
    "case images of **one** and **seven**. We display the _fake_ images, and\n",
    "then the results of our model classifying these new data.\n",
    "\n",
    "-----"
   ]
  },
  {
   "cell_type": "code",
   "execution_count": 12,
   "metadata": {
    "collapsed": false,
    "deletable": true,
    "editable": true
   },
   "outputs": [
    {
     "data": {
      "image/png": "[encoded data removed]",
      "text/plain": [
       "<matplotlib.figure.Figure at 0x1a1ab04630>"
      ]
     },
     "metadata": {},
     "output_type": "display_data"
    }
   ],
   "source": [
    "ones = digits.make_ones()\n",
    "\n",
    "hd.plot_numbers(ones)"
   ]
  },
  {
   "cell_type": "code",
   "execution_count": 13,
   "metadata": {
    "collapsed": false,
    "deletable": true,
    "editable": true
   },
   "outputs": [
    {
     "name": "stdout",
     "output_type": "stream",
     "text": [
      "Actual : Predicted\n",
      "  1    :     0\n",
      "  1    :     0\n",
      "  1    :     1\n",
      "  1    :     1\n",
      "  1    :     9\n",
      "  1    :     9\n"
     ]
    }
   ],
   "source": [
    "print('Actual : Predicted')\n",
    "\n",
    "for one in ones:\n",
    "    print('  1    :     {0}'.format(nbc.predict([one])[0])) # You can use \"one\" instead of \"[one]\"\n",
    "                                                            # But it's depreciated in newer versions of sklearn"
   ]
  },
  {
   "cell_type": "code",
   "execution_count": 25,
   "metadata": {
    "collapsed": false,
    "deletable": true,
    "editable": true
   },
   "outputs": [
    {
     "data": {
      "image/png": "[encoded data removed]",
      "text/plain": [
       "<matplotlib.figure.Figure at 0x1a1697f128>"
      ]
     },
     "metadata": {},
     "output_type": "display_data"
    }
   ],
   "source": [
    "# Now test on our sevens\n",
    "\n",
    "sevens = hd.make_sevens()\n",
    "hd.plot_numbers(sevens)"
   ]
  },
  {
   "cell_type": "code",
   "execution_count": 15,
   "metadata": {
    "collapsed": false,
    "deletable": true,
    "editable": true
   },
   "outputs": [
    {
     "name": "stdout",
     "output_type": "stream",
     "text": [
      "Actual : Predicted\n",
      "  7    :     2\n",
      "  7    :     9\n",
      "  7    :     9\n"
     ]
    }
   ],
   "source": [
    "print('Actual : Predicted')\n",
    "for seven in sevens:\n",
    "    print('  7    :     {0}'.format(nbc.predict([seven])[0]))"
   ]
  },
  {
   "cell_type": "code",
   "execution_count": null,
   "metadata": {
    "collapsed": true,
    "deletable": true,
    "editable": true
   },
   "outputs": [],
   "source": []
  }
 ],
 "metadata": {
  "kernelspec": {
   "display_name": "Python 3",
   "language": "python",
   "name": "python3"
  },
  "language_info": {
   "codemirror_mode": {
    "name": "ipython",
    "version": 3
   },
   "file_extension": ".py",
   "mimetype": "text/x-python",
   "name": "python",
   "nbconvert_exporter": "python",
   "pygments_lexer": "ipython3",
   "version": "3.5.2"
  }
 },
 "nbformat": 4,
 "nbformat_minor": 2
}
